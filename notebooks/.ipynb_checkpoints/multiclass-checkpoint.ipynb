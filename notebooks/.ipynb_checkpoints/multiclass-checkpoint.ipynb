{
 "cells": [
  {
   "cell_type": "code",
   "execution_count": 60,
   "metadata": {},
   "outputs": [],
   "source": [
    "import numpy as np\n",
    "import matplotlib.pyplot as plt\n",
    "from sklearn import datasets"
   ]
  },
  {
   "cell_type": "code",
   "execution_count": 61,
   "metadata": {},
   "outputs": [],
   "source": [
    "import keras\n",
    "from keras.models import Sequential #define neural model\n",
    "from keras.layers import Dense #connect precedent layers to subsequent layers\n",
    "from keras.optimizers import Adam\n",
    "from keras.utils.np_utils import to_categorical"
   ]
  },
  {
   "cell_type": "code",
   "execution_count": 62,
   "metadata": {},
   "outputs": [],
   "source": [
    "n_pts = 500\n",
    "centers = [[-1, 1], [-1, -1], [1, -1]] # 3 central coordinates for our cluster dataset\n",
    "X, y = datasets.make_blobs(n_samples=n_pts, random_state=123, centers=centers, cluster_std=0.4)"
   ]
  },
  {
   "cell_type": "code",
   "execution_count": 63,
   "metadata": {},
   "outputs": [
    {
     "data": {
      "text/plain": [
       "<matplotlib.collections.PathCollection at 0x1a4543ba20>"
      ]
     },
     "execution_count": 63,
     "metadata": {},
     "output_type": "execute_result"
    },
    {
     "data": {
      "image/png": "[encoded data removed]",
      "text/plain": [
       "<Figure size 432x288 with 1 Axes>"
      ]
     },
     "metadata": {
      "needs_background": "light"
     },
     "output_type": "display_data"
    }
   ],
   "source": [
    "plt.scatter(X[y==0, 0], X[y==0, 1])\n",
    "plt.scatter(X[y==1, 0], X[y==1, 1])\n",
    "plt.scatter(X[y==2, 0], X[y==2, 1])"
   ]
  },
  {
   "cell_type": "code",
   "execution_count": 64,
   "metadata": {},
   "outputs": [
    {
     "name": "stdout",
     "output_type": "stream",
     "text": [
      "[[0. 0. 1.]\n",
      " [0. 0. 1.]\n",
      " [0. 0. 1.]\n",
      " ...\n",
      " [0. 1. 0.]\n",
      " [0. 1. 0.]\n",
      " [1. 0. 0.]]\n"
     ]
    }
   ],
   "source": [
    "y_cat = to_categorical(y, 3)\n",
    "print(y_cat)"
   ]
  },
  {
   "cell_type": "code",
   "execution_count": 65,
   "metadata": {},
   "outputs": [],
   "source": [
    "model = Sequential()\n",
    "model.add(Dense(units=3, input_shape=(2, ), activation='softmax')) #multiclass data\n",
    "model.compile(Adam(lr=0.1), loss='categorical_crossentropy', metrics=['accuracy'])"
   ]
  },
  {
   "cell_type": "code",
   "execution_count": 66,
   "metadata": {},
   "outputs": [
    {
     "name": "stdout",
     "output_type": "stream",
     "text": [
      "Epoch 1/30\n",
      "500/500 [==============================] - 1s 1ms/step - loss: 0.8248 - acc: 0.6660\n",
      "Epoch 2/30\n",
      "500/500 [==============================] - 0s 47us/step - loss: 0.2762 - acc: 0.9740\n",
      "Epoch 3/30\n",
      "500/500 [==============================] - 0s 44us/step - loss: 0.1298 - acc: 0.9860\n",
      "Epoch 4/30\n",
      "500/500 [==============================] - 0s 39us/step - loss: 0.0887 - acc: 0.9900\n",
      "Epoch 5/30\n",
      "500/500 [==============================] - 0s 41us/step - loss: 0.0735 - acc: 0.9880\n",
      "Epoch 6/30\n",
      "500/500 [==============================] - 0s 38us/step - loss: 0.0649 - acc: 0.9880\n",
      "Epoch 7/30\n",
      "500/500 [==============================] - 0s 37us/step - loss: 0.0603 - acc: 0.9900\n",
      "Epoch 8/30\n",
      "500/500 [==============================] - 0s 38us/step - loss: 0.0555 - acc: 0.9900\n",
      "Epoch 9/30\n",
      "500/500 [==============================] - 0s 38us/step - loss: 0.0529 - acc: 0.9880\n",
      "Epoch 10/30\n",
      "500/500 [==============================] - 0s 43us/step - loss: 0.0503 - acc: 0.9900\n",
      "Epoch 11/30\n",
      "500/500 [==============================] - 0s 41us/step - loss: 0.0486 - acc: 0.9900\n",
      "Epoch 12/30\n",
      "500/500 [==============================] - 0s 42us/step - loss: 0.0469 - acc: 0.9900\n",
      "Epoch 13/30\n",
      "500/500 [==============================] - 0s 39us/step - loss: 0.0449 - acc: 0.9900\n",
      "Epoch 14/30\n",
      "500/500 [==============================] - 0s 40us/step - loss: 0.0436 - acc: 0.9900\n",
      "Epoch 15/30\n",
      "500/500 [==============================] - 0s 39us/step - loss: 0.0424 - acc: 0.9900\n",
      "Epoch 16/30\n",
      "500/500 [==============================] - 0s 41us/step - loss: 0.0413 - acc: 0.9900\n",
      "Epoch 17/30\n",
      "500/500 [==============================] - 0s 45us/step - loss: 0.0402 - acc: 0.9900\n",
      "Epoch 18/30\n",
      "500/500 [==============================] - 0s 57us/step - loss: 0.0393 - acc: 0.9900\n",
      "Epoch 19/30\n",
      "500/500 [==============================] - 0s 63us/step - loss: 0.0388 - acc: 0.9900\n",
      "Epoch 20/30\n",
      "500/500 [==============================] - 0s 65us/step - loss: 0.0386 - acc: 0.9900\n",
      "Epoch 21/30\n",
      "500/500 [==============================] - 0s 61us/step - loss: 0.0370 - acc: 0.9900\n",
      "Epoch 22/30\n",
      "500/500 [==============================] - 0s 68us/step - loss: 0.0376 - acc: 0.9900\n",
      "Epoch 23/30\n",
      "500/500 [==============================] - 0s 59us/step - loss: 0.0361 - acc: 0.9900\n",
      "Epoch 24/30\n",
      "500/500 [==============================] - 0s 76us/step - loss: 0.0358 - acc: 0.9900\n",
      "Epoch 25/30\n",
      "500/500 [==============================] - 0s 62us/step - loss: 0.0348 - acc: 0.9900\n",
      "Epoch 26/30\n",
      "500/500 [==============================] - 0s 48us/step - loss: 0.0348 - acc: 0.9900\n",
      "Epoch 27/30\n",
      "500/500 [==============================] - 0s 49us/step - loss: 0.0340 - acc: 0.9900\n",
      "Epoch 28/30\n",
      "500/500 [==============================] - 0s 49us/step - loss: 0.0341 - acc: 0.9900\n",
      "Epoch 29/30\n",
      "500/500 [==============================] - 0s 51us/step - loss: 0.0333 - acc: 0.9900\n",
      "Epoch 30/30\n",
      "500/500 [==============================] - 0s 71us/step - loss: 0.0329 - acc: 0.9900\n"
     ]
    },
    {
     "data": {
      "text/plain": [
       "<keras.callbacks.History at 0x1a45456668>"
      ]
     },
     "execution_count": 66,
     "metadata": {},
     "output_type": "execute_result"
    }
   ],
   "source": [
    "model.fit(x=X, y=y_cat, verbose=1, batch_size=50, epochs=30)"
   ]
  },
  {
   "cell_type": "code",
   "execution_count": 67,
   "metadata": {},
   "outputs": [],
   "source": [
    "# plot our dataset along with our decision boundary that will seperate our categorical results\n",
    "def plot_decision_boundary(X, y, model): # Model is our sequential model containing the neural network data\n",
    "    x_span = np.linspace(min(X[:, 0]) - 1, max(X[:, 0]) + 1, 50)\n",
    "    y_span = np.linspace(min(X[:, 1]) - 1, max(X[:, 1]) + 1, 50) \n",
    "    xx, yy = np.meshgrid(x_span, y_span) # return coordinate matrices from the input of the coordinate vectors (x_span & y_span)\n",
    "    xx_, yy_ = xx.ravel(), yy.ravel() # make matrix 1D\n",
    "    grid = np.c_[xx_, yy_]# concat these arrays in a column-wise arrangment\n",
    "    pred_func = model.predict_classes(grid) #tests all points in grid and returns array of predictions indicates Pr(any given pt being labeled as 1)\n",
    "    z = pred_func.reshape(xx.shape) # same dimensions as xx, insures the prediction results are compatible with the appropriate coordinate counterpart of our grid\n",
    "    plt.contourf(xx, yy, z) # plot distinct probability level/contour zones"
   ]
  },
  {
   "cell_type": "code",
   "execution_count": 68,
   "metadata": {},
   "outputs": [
    {
     "data": {
      "text/plain": [
       "<matplotlib.collections.PathCollection at 0x10eac5978>"
      ]
     },
     "execution_count": 68,
     "metadata": {},
     "output_type": "execute_result"
    },
    {
     "data": {
      "image/png": "[encoded data removed]",
      "text/plain": [
       "<Figure size 432x288 with 1 Axes>"
      ]
     },
     "metadata": {
      "needs_background": "light"
     },
     "output_type": "display_data"
    }
   ],
   "source": [
    "plot_decision_boundary(X, y_cat, model)\n",
    "plt.scatter(X[y==0, 0], X[y==0, 1]) #purple\n",
    "plt.scatter(X[y==1, 0], X[y==1, 1]) #blue\n",
    "plt.scatter(X[y==2, 0], X[y==2, 1]) #yellow"
   ]
  },
  {
   "cell_type": "code",
   "execution_count": 74,
   "metadata": {},
   "outputs": [
    {
     "name": "stdout",
     "output_type": "stream",
     "text": [
      "Prediction is [0]\n"
     ]
    },
    {
     "data": {
      "image/png": "[encoded data removed]",
      "text/plain": [
       "<Figure size 432x288 with 1 Axes>"
      ]
     },
     "metadata": {
      "needs_background": "light"
     },
     "output_type": "display_data"
    }
   ],
   "source": [
    "#predict\n",
    "plot_decision_boundary(X, y_cat, model)\n",
    "plt.scatter(X[y==0, 0], X[y==0, 1]) \n",
    "plt.scatter(X[y==1, 0], X[y==1, 1]) \n",
    "plt.scatter(X[y==2, 0], X[y==2, 1]) \n",
    "x = 0.5\n",
    "y = 1\n",
    "point = np.array([[x, y]])\n",
    "prediction = model.predict_classes(point)\n",
    "plt.plot([x], [y], marker='o', markersize=10, color='r')\n",
    "print(\"Prediction is\", prediction)"
   ]
  },
  {
   "cell_type": "code",
   "execution_count": null,
   "metadata": {},
   "outputs": [],
   "source": []
  }
 ],
 "metadata": {
  "kernelspec": {
   "display_name": "Python 3",
   "language": "python",
   "name": "python3"
  },
  "language_info": {
   "codemirror_mode": {
    "name": "ipython",
    "version": 3
   },
   "file_extension": ".py",
   "mimetype": "text/x-python",
   "name": "python",
   "nbconvert_exporter": "python",
   "pygments_lexer": "ipython3",
   "version": "3.7.2"
  }
 },
 "nbformat": 4,
 "nbformat_minor": 2
}
