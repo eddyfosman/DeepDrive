{
 "cells": [
  {
   "cell_type": "code",
   "execution_count": 6,
   "metadata": {},
   "outputs": [],
   "source": [
    "import numpy as np\n",
    "import matplotlib.pyplot as plt\n",
    "from sklearn import datasets"
   ]
  },
  {
   "cell_type": "code",
   "execution_count": 7,
   "metadata": {},
   "outputs": [
    {
     "name": "stderr",
     "output_type": "stream",
     "text": [
      "Using TensorFlow backend.\n"
     ]
    }
   ],
   "source": [
    "import keras\n",
    "from keras.models import Sequential\n",
    "from keras.layers import Dense\n",
    "from keras.optimizers import Adam"
   ]
  },
  {
   "cell_type": "code",
   "execution_count": 8,
   "metadata": {},
   "outputs": [],
   "source": [
    "np.random.seed(0)"
   ]
  },
  {
   "cell_type": "code",
   "execution_count": 9,
   "metadata": {},
   "outputs": [],
   "source": [
    "n_pts = 500\n",
    "X, y = datasets.make_circles(n_samples=n_pts, random_state=123, noise=0.1, factor=0.2)"
   ]
  },
  {
   "cell_type": "code",
   "execution_count": 10,
   "metadata": {},
   "outputs": [
    {
     "data": {
      "text/plain": [
       "<matplotlib.collections.PathCollection at 0x1a3a995898>"
      ]
     },
     "execution_count": 10,
     "metadata": {},
     "output_type": "execute_result"
    },
    {
     "data": {
      "image/png": "[encoded data removed]",
      "text/plain": [
       "<Figure size 432x288 with 1 Axes>"
      ]
     },
     "metadata": {
      "needs_background": "light"
     },
     "output_type": "display_data"
    }
   ],
   "source": [
    "plt.scatter(X[y==0, 0], X[y==0, 1])\n",
    "plt.scatter(X[y==1, 0], X[y==1, 1])"
   ]
  },
  {
   "cell_type": "code",
   "execution_count": 11,
   "metadata": {},
   "outputs": [
    {
     "name": "stdout",
     "output_type": "stream",
     "text": [
      "WARNING:tensorflow:From /Users/oasysokubo/anaconda3/envs/autodrive/lib/python3.7/site-packages/tensorflow/python/framework/op_def_library.py:263: colocate_with (from tensorflow.python.framework.ops) is deprecated and will be removed in a future version.\n",
      "Instructions for updating:\n",
      "Colocations handled automatically by placer.\n"
     ]
    }
   ],
   "source": [
    "model = Sequential()\n",
    "model.add(Dense(4, input_shape=(2,), activation='sigmoid')) # defined hidden layer\n",
    "model.add(Dense(1, activation='sigmoid')) #specifiy single node\n",
    "model.compile(Adam(lr = 0.01), 'binary_crossentropy', metrics=['accuracy'])"
   ]
  },
  {
   "cell_type": "code",
   "execution_count": 12,
   "metadata": {},
   "outputs": [
    {
     "name": "stdout",
     "output_type": "stream",
     "text": [
      "WARNING:tensorflow:From /Users/oasysokubo/anaconda3/envs/autodrive/lib/python3.7/site-packages/tensorflow/python/ops/math_ops.py:3066: to_int32 (from tensorflow.python.ops.math_ops) is deprecated and will be removed in a future version.\n",
      "Instructions for updating:\n",
      "Use tf.cast instead.\n",
      "Epoch 1/100\n",
      "500/500 [==============================] - 2s 4ms/step - loss: 0.6964 - acc: 0.5120\n",
      "Epoch 2/100\n",
      "500/500 [==============================] - 0s 288us/step - loss: 0.6938 - acc: 0.6180\n",
      "Epoch 3/100\n",
      "500/500 [==============================] - 0s 258us/step - loss: 0.6926 - acc: 0.5180\n",
      "Epoch 4/100\n",
      "500/500 [==============================] - 0s 178us/step - loss: 0.6916 - acc: 0.6760\n",
      "Epoch 5/100\n",
      "500/500 [==============================] - 0s 138us/step - loss: 0.6905 - acc: 0.6320\n",
      "Epoch 6/100\n",
      "500/500 [==============================] - 0s 139us/step - loss: 0.6890 - acc: 0.3640\n",
      "Epoch 7/100\n",
      "500/500 [==============================] - 0s 121us/step - loss: 0.6866 - acc: 0.6480\n",
      "Epoch 8/100\n",
      "500/500 [==============================] - 0s 140us/step - loss: 0.6839 - acc: 0.6700\n",
      "Epoch 9/100\n",
      "500/500 [==============================] - 0s 153us/step - loss: 0.6797 - acc: 0.7560\n",
      "Epoch 10/100\n",
      "500/500 [==============================] - 0s 252us/step - loss: 0.6735 - acc: 0.7980\n",
      "Epoch 11/100\n",
      "500/500 [==============================] - 0s 201us/step - loss: 0.6661 - acc: 0.8380\n",
      "Epoch 12/100\n",
      "500/500 [==============================] - 0s 163us/step - loss: 0.6549 - acc: 0.8580\n",
      "Epoch 13/100\n",
      "500/500 [==============================] - 0s 156us/step - loss: 0.6423 - acc: 0.8780\n",
      "Epoch 14/100\n",
      "500/500 [==============================] - 0s 144us/step - loss: 0.6272 - acc: 0.8920\n",
      "Epoch 15/100\n",
      "500/500 [==============================] - 0s 210us/step - loss: 0.6080 - acc: 0.8800\n",
      "Epoch 16/100\n",
      "500/500 [==============================] - 0s 187us/step - loss: 0.5886 - acc: 0.8700\n",
      "Epoch 17/100\n",
      "500/500 [==============================] - 0s 154us/step - loss: 0.5680 - acc: 0.8860\n",
      "Epoch 18/100\n",
      "500/500 [==============================] - 0s 175us/step - loss: 0.5446 - acc: 0.8560\n",
      "Epoch 19/100\n",
      "500/500 [==============================] - 0s 166us/step - loss: 0.5224 - acc: 0.8860\n",
      "Epoch 20/100\n",
      "500/500 [==============================] - 0s 158us/step - loss: 0.4980 - acc: 0.8880\n",
      "Epoch 21/100\n",
      "500/500 [==============================] - 0s 177us/step - loss: 0.4755 - acc: 0.8880\n",
      "Epoch 22/100\n",
      "500/500 [==============================] - 0s 173us/step - loss: 0.4528 - acc: 0.8920\n",
      "Epoch 23/100\n",
      "500/500 [==============================] - 0s 129us/step - loss: 0.4305 - acc: 0.8920\n",
      "Epoch 24/100\n",
      "500/500 [==============================] - 0s 101us/step - loss: 0.4097 - acc: 0.9040\n",
      "Epoch 25/100\n",
      "500/500 [==============================] - 0s 102us/step - loss: 0.3902 - acc: 0.9000\n",
      "Epoch 26/100\n",
      "500/500 [==============================] - 0s 102us/step - loss: 0.3705 - acc: 0.9140\n",
      "Epoch 27/100\n",
      "500/500 [==============================] - 0s 103us/step - loss: 0.3520 - acc: 0.9100\n",
      "Epoch 28/100\n",
      "500/500 [==============================] - 0s 103us/step - loss: 0.3348 - acc: 0.9160\n",
      "Epoch 29/100\n",
      "500/500 [==============================] - 0s 100us/step - loss: 0.3179 - acc: 0.9180\n",
      "Epoch 30/100\n",
      "500/500 [==============================] - 0s 102us/step - loss: 0.3024 - acc: 0.9220\n",
      "Epoch 31/100\n",
      "500/500 [==============================] - 0s 127us/step - loss: 0.2874 - acc: 0.9240\n",
      "Epoch 32/100\n",
      "500/500 [==============================] - 0s 106us/step - loss: 0.2737 - acc: 0.9320\n",
      "Epoch 33/100\n",
      "500/500 [==============================] - 0s 121us/step - loss: 0.2609 - acc: 0.9400\n",
      "Epoch 34/100\n",
      "500/500 [==============================] - 0s 128us/step - loss: 0.2488 - acc: 0.9440\n",
      "Epoch 35/100\n",
      "500/500 [==============================] - 0s 126us/step - loss: 0.2371 - acc: 0.9640\n",
      "Epoch 36/100\n",
      "500/500 [==============================] - 0s 118us/step - loss: 0.2260 - acc: 0.9800\n",
      "Epoch 37/100\n",
      "500/500 [==============================] - 0s 116us/step - loss: 0.2161 - acc: 0.9860\n",
      "Epoch 38/100\n",
      "500/500 [==============================] - 0s 103us/step - loss: 0.2062 - acc: 0.9860\n",
      "Epoch 39/100\n",
      "500/500 [==============================] - 0s 103us/step - loss: 0.1968 - acc: 0.9900\n",
      "Epoch 40/100\n",
      "500/500 [==============================] - 0s 106us/step - loss: 0.1877 - acc: 0.9940\n",
      "Epoch 41/100\n",
      "500/500 [==============================] - 0s 104us/step - loss: 0.1794 - acc: 0.9940\n",
      "Epoch 42/100\n",
      "500/500 [==============================] - 0s 103us/step - loss: 0.1713 - acc: 0.9940\n",
      "Epoch 43/100\n",
      "500/500 [==============================] - 0s 103us/step - loss: 0.1637 - acc: 0.9960\n",
      "Epoch 44/100\n",
      "500/500 [==============================] - 0s 165us/step - loss: 0.1563 - acc: 0.9960\n",
      "Epoch 45/100\n",
      "500/500 [==============================] - 0s 166us/step - loss: 0.1493 - acc: 0.9960\n",
      "Epoch 46/100\n",
      "500/500 [==============================] - 0s 150us/step - loss: 0.1422 - acc: 0.9960\n",
      "Epoch 47/100\n",
      "500/500 [==============================] - 0s 125us/step - loss: 0.1353 - acc: 0.9960\n",
      "Epoch 48/100\n",
      "500/500 [==============================] - 0s 144us/step - loss: 0.1284 - acc: 0.9960\n",
      "Epoch 49/100\n",
      "500/500 [==============================] - 0s 121us/step - loss: 0.1213 - acc: 0.9960\n",
      "Epoch 50/100\n",
      "500/500 [==============================] - 0s 115us/step - loss: 0.1148 - acc: 0.9960\n",
      "Epoch 51/100\n",
      "500/500 [==============================] - 0s 135us/step - loss: 0.1081 - acc: 0.9960\n",
      "Epoch 52/100\n",
      "500/500 [==============================] - 0s 129us/step - loss: 0.1021 - acc: 0.9960\n",
      "Epoch 53/100\n",
      "500/500 [==============================] - 0s 129us/step - loss: 0.0966 - acc: 0.9960\n",
      "Epoch 54/100\n",
      "500/500 [==============================] - 0s 119us/step - loss: 0.0914 - acc: 0.9960\n",
      "Epoch 55/100\n",
      "500/500 [==============================] - 0s 107us/step - loss: 0.0867 - acc: 0.9960\n",
      "Epoch 56/100\n",
      "500/500 [==============================] - 0s 106us/step - loss: 0.0824 - acc: 0.9960\n",
      "Epoch 57/100\n",
      "500/500 [==============================] - 0s 105us/step - loss: 0.0783 - acc: 0.9980\n",
      "Epoch 58/100\n",
      "500/500 [==============================] - 0s 97us/step - loss: 0.0747 - acc: 0.9980\n",
      "Epoch 59/100\n",
      "500/500 [==============================] - 0s 86us/step - loss: 0.0713 - acc: 0.9980\n",
      "Epoch 60/100\n",
      "500/500 [==============================] - 0s 109us/step - loss: 0.0683 - acc: 0.9980\n",
      "Epoch 61/100\n",
      "500/500 [==============================] - 0s 96us/step - loss: 0.0654 - acc: 0.9980\n",
      "Epoch 62/100\n",
      "500/500 [==============================] - 0s 102us/step - loss: 0.0627 - acc: 0.9980\n",
      "Epoch 63/100\n",
      "500/500 [==============================] - 0s 93us/step - loss: 0.0602 - acc: 0.9980\n",
      "Epoch 64/100\n",
      "500/500 [==============================] - 0s 91us/step - loss: 0.0579 - acc: 0.9980\n",
      "Epoch 65/100\n",
      "500/500 [==============================] - 0s 97us/step - loss: 0.0557 - acc: 0.9980\n",
      "Epoch 66/100\n",
      "500/500 [==============================] - 0s 102us/step - loss: 0.0537 - acc: 0.9980\n",
      "Epoch 67/100\n",
      "500/500 [==============================] - 0s 114us/step - loss: 0.0518 - acc: 0.9980\n",
      "Epoch 68/100\n",
      "500/500 [==============================] - 0s 116us/step - loss: 0.0500 - acc: 0.9980\n",
      "Epoch 69/100\n",
      "500/500 [==============================] - 0s 166us/step - loss: 0.0484 - acc: 0.9980\n",
      "Epoch 70/100\n",
      "500/500 [==============================] - 0s 158us/step - loss: 0.0467 - acc: 0.9980\n",
      "Epoch 71/100\n",
      "500/500 [==============================] - 0s 149us/step - loss: 0.0453 - acc: 0.9980\n",
      "Epoch 72/100\n",
      "500/500 [==============================] - 0s 156us/step - loss: 0.0438 - acc: 0.9980\n",
      "Epoch 73/100\n",
      "500/500 [==============================] - 0s 149us/step - loss: 0.0425 - acc: 0.9980\n",
      "Epoch 74/100\n",
      "500/500 [==============================] - 0s 139us/step - loss: 0.0411 - acc: 0.9980\n",
      "Epoch 75/100\n",
      "500/500 [==============================] - 0s 138us/step - loss: 0.0399 - acc: 0.9980\n",
      "Epoch 76/100\n",
      "500/500 [==============================] - 0s 160us/step - loss: 0.0388 - acc: 0.9980\n",
      "Epoch 77/100\n",
      "500/500 [==============================] - 0s 154us/step - loss: 0.0377 - acc: 0.9980\n",
      "Epoch 78/100\n",
      "500/500 [==============================] - 0s 184us/step - loss: 0.0367 - acc: 0.9980\n",
      "Epoch 79/100\n",
      "500/500 [==============================] - 0s 194us/step - loss: 0.0356 - acc: 0.9980\n",
      "Epoch 80/100\n",
      "500/500 [==============================] - 0s 149us/step - loss: 0.0347 - acc: 0.9980\n",
      "Epoch 81/100\n"
     ]
    },
    {
     "name": "stdout",
     "output_type": "stream",
     "text": [
      "500/500 [==============================] - 0s 155us/step - loss: 0.0340 - acc: 0.9980\n",
      "Epoch 82/100\n",
      "500/500 [==============================] - 0s 143us/step - loss: 0.0329 - acc: 0.9980\n",
      "Epoch 83/100\n",
      "500/500 [==============================] - 0s 155us/step - loss: 0.0321 - acc: 0.9980\n",
      "Epoch 84/100\n",
      "500/500 [==============================] - 0s 112us/step - loss: 0.0312 - acc: 0.9980\n",
      "Epoch 85/100\n",
      "500/500 [==============================] - 0s 98us/step - loss: 0.0305 - acc: 0.9980\n",
      "Epoch 86/100\n",
      "500/500 [==============================] - 0s 95us/step - loss: 0.0298 - acc: 1.0000\n",
      "Epoch 87/100\n",
      "500/500 [==============================] - 0s 96us/step - loss: 0.0290 - acc: 1.0000\n",
      "Epoch 88/100\n",
      "500/500 [==============================] - 0s 99us/step - loss: 0.0284 - acc: 1.0000\n",
      "Epoch 89/100\n",
      "500/500 [==============================] - 0s 95us/step - loss: 0.0277 - acc: 1.0000\n",
      "Epoch 90/100\n",
      "500/500 [==============================] - 0s 94us/step - loss: 0.0270 - acc: 1.0000\n",
      "Epoch 91/100\n",
      "500/500 [==============================] - 0s 98us/step - loss: 0.0264 - acc: 1.0000\n",
      "Epoch 92/100\n",
      "500/500 [==============================] - 0s 104us/step - loss: 0.0259 - acc: 1.0000\n",
      "Epoch 93/100\n",
      "500/500 [==============================] - 0s 118us/step - loss: 0.0253 - acc: 1.0000\n",
      "Epoch 94/100\n",
      "500/500 [==============================] - 0s 125us/step - loss: 0.0247 - acc: 1.0000\n",
      "Epoch 95/100\n",
      "500/500 [==============================] - 0s 130us/step - loss: 0.0242 - acc: 1.0000\n",
      "Epoch 96/100\n",
      "500/500 [==============================] - 0s 203us/step - loss: 0.0237 - acc: 1.0000\n",
      "Epoch 97/100\n",
      "500/500 [==============================] - 0s 186us/step - loss: 0.0232 - acc: 1.0000\n",
      "Epoch 98/100\n",
      "500/500 [==============================] - 0s 120us/step - loss: 0.0227 - acc: 1.0000\n",
      "Epoch 99/100\n",
      "500/500 [==============================] - 0s 105us/step - loss: 0.0222 - acc: 1.0000\n",
      "Epoch 100/100\n",
      "500/500 [==============================] - 0s 99us/step - loss: 0.0217 - acc: 1.0000\n"
     ]
    }
   ],
   "source": [
    "h = model.fit(x=X, y=y, verbose = 1, batch_size = 20, epochs=100, shuffle='true')"
   ]
  },
  {
   "cell_type": "code",
   "execution_count": 13,
   "metadata": {},
   "outputs": [
    {
     "data": {
      "text/plain": [
       "Text(0.5, 1.0, 'accuracy')"
      ]
     },
     "execution_count": 13,
     "metadata": {},
     "output_type": "execute_result"
    },
    {
     "data": {
      "image/png": "[encoded data removed]",
      "text/plain": [
       "<Figure size 432x288 with 1 Axes>"
      ]
     },
     "metadata": {
      "needs_background": "light"
     },
     "output_type": "display_data"
    }
   ],
   "source": [
    "plt.plot(h.history['acc'])\n",
    "plt.xlabel('epoch')\n",
    "plt.legend(['accuracy'])\n",
    "plt.title('accuracy')"
   ]
  },
  {
   "cell_type": "code",
   "execution_count": 14,
   "metadata": {},
   "outputs": [
    {
     "data": {
      "text/plain": [
       "Text(0.5, 1.0, 'loss')"
      ]
     },
     "execution_count": 14,
     "metadata": {},
     "output_type": "execute_result"
    },
    {
     "data": {
      "image/png": "[encoded data removed]",
      "text/plain": [
       "<Figure size 432x288 with 1 Axes>"
      ]
     },
     "metadata": {
      "needs_background": "light"
     },
     "output_type": "display_data"
    }
   ],
   "source": [
    "plt.plot(h.history['loss'])\n",
    "plt.xlabel('epoch')\n",
    "plt.legend(['loss'])\n",
    "plt.title('loss')"
   ]
  },
  {
   "cell_type": "code",
   "execution_count": 15,
   "metadata": {},
   "outputs": [],
   "source": [
    "# plot our dataset along with our decision boundary that will seperate our categorical results\n",
    "def plot_decision_boundary(X, y, model): # Model is our sequential model containing the neural network data\n",
    "    x_span = np.linspace(min(X[:, 0]) - 0.25, max(X[:, 0]) + 0.25, 50)\n",
    "    y_span = np.linspace(min(X[:, 1]) - 0.25, max(X[:, 1]) + 0.25, 50) \n",
    "    xx, yy = np.meshgrid(x_span, y_span) # return coordinate matrices from the input of the coordinate vectors (x_span & y_span)\n",
    "    xx_, yy_ = xx.ravel(), yy.ravel() # make matrix 1D\n",
    "    grid = np.c_[xx_, yy_] # concat these arrays in a column-wise arrangment\n",
    "    pred_func = model.predict(grid) # tests all points in grid and returns array of predictions indicates Pr(any given pt being labeled as 1)\n",
    "    z = pred_func.reshape(xx.shape) # same dimensions as xx, insures the prediction results are compatible with the appropriate coordinate counterpart of our grid\n",
    "    plt.contourf(xx, yy, z) # plot distinct probability level"
   ]
  },
  {
   "cell_type": "code",
   "execution_count": 19,
   "metadata": {},
   "outputs": [
    {
     "name": "stdout",
     "output_type": "stream",
     "text": [
      "prediction is:  [[0.99029654]]\n"
     ]
    },
    {
     "data": {
      "image/png": "[encoded data removed]",
      "text/plain": [
       "<Figure size 432x288 with 1 Axes>"
      ]
     },
     "metadata": {
      "needs_background": "light"
     },
     "output_type": "display_data"
    }
   ],
   "source": [
    "plot_decision_boundary(X, y, model)\n",
    "plt.scatter(X[:n_pts,0], X[:n_pts,1])\n",
    "plt.scatter(X[n_pts:,0], X[n_pts:,1])\n",
    "x = 0.1\n",
    "y = 0\n",
    "point = np.array([[x, y]])\n",
    "prediction = model.predict(point)\n",
    "plt.plot([x], [y], marker='o', markersize=10, color=\"red\")\n",
    "print(\"prediction is: \", prediction)"
   ]
  },
  {
   "cell_type": "code",
   "execution_count": null,
   "metadata": {},
   "outputs": [],
   "source": [
    "# trained a deep neural network thats properly able to classify previously labeled data, and then make predictions on newly inputted data"
   ]
  }
 ],
 "metadata": {
  "kernelspec": {
   "display_name": "Python 3",
   "language": "python",
   "name": "python3"
  },
  "language_info": {
   "codemirror_mode": {
    "name": "ipython",
    "version": 3
   },
   "file_extension": ".py",
   "mimetype": "text/x-python",
   "name": "python",
   "nbconvert_exporter": "python",
   "pygments_lexer": "ipython3",
   "version": "3.6.5"
  }
 },
 "nbformat": 4,
 "nbformat_minor": 2
}
