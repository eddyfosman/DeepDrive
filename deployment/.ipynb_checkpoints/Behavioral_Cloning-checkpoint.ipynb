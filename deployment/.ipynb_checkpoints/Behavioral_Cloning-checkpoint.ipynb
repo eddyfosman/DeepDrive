{
 "cells": [
  {
   "cell_type": "code",
   "execution_count": 1,
   "metadata": {
    "colab": {
     "base_uri": "https://localhost:8080/",
     "height": 131
    },
    "colab_type": "code",
    "id": "A4iYqUNkTq19",
    "outputId": "d0096180-4db4-46da-888e-545fecf78425"
   },
   "outputs": [
    {
     "name": "stdout",
     "output_type": "stream",
     "text": [
      "Cloning into 'Track.ai'...\n",
      "remote: Enumerating objects: 13470, done.\u001b[K\n",
      "remote: Total 13470 (delta 0), reused 0 (delta 0), pack-reused 13470\u001b[K\n",
      "Receiving objects: 100% (13470/13470), 198.36 MiB | 37.01 MiB/s, done.\n",
      "Checking out files: 100% (13525/13525), done.\n"
     ]
    }
   ],
   "source": [
    "!git clone https://github.com/oasysokubo/Track.ai.git"
   ]
  },
  {
   "cell_type": "code",
   "execution_count": 2,
   "metadata": {
    "colab": {
     "base_uri": "https://localhost:8080/",
     "height": 63
    },
    "colab_type": "code",
    "id": "RNq_7zpQoJWR",
    "outputId": "7889b4a6-ef91-4c94-a58d-4b59ddacf4ba"
   },
   "outputs": [
    {
     "name": "stdout",
     "output_type": "stream",
     "text": [
      "driving_log.csv  IMG\n"
     ]
    }
   ],
   "source": [
    "!ls Track.ai"
   ]
  },
  {
   "cell_type": "code",
   "execution_count": 0,
   "metadata": {
    "colab": {},
    "colab_type": "code",
    "id": "RahDlCTfoQFT"
   },
   "outputs": [],
   "source": [
    "import os\n",
    "import numpy as np\n",
    "import matplotlib.pyplot as plt\n",
    "import keras\n",
    "from keras.models import Sequential\n",
    "from keras.optimizers import Adam\n",
    "from keras.layers import Conv2D, MaxPooling2D, Dropout, Flatten, Dense\n",
    "import cv2\n",
    "import pandas as pd\n",
    "import random\n",
    "import ntpath"
   ]
  },
  {
   "cell_type": "code",
   "execution_count": 7,
   "metadata": {
    "colab": {
     "base_uri": "https://localhost:8080/",
     "height": 329
    },
    "colab_type": "code",
    "id": "yy4Kr9UQoh6f",
    "outputId": "06509a72-f652-451c-8c26-1a6f74644714"
   },
   "outputs": [
    {
     "data": {
      "text/html": [
       "<div>\n",
       "<style scoped>\n",
       "    .dataframe tbody tr th:only-of-type {\n",
       "        vertical-align: middle;\n",
       "    }\n",
       "\n",
       "    .dataframe tbody tr th {\n",
       "        vertical-align: top;\n",
       "    }\n",
       "\n",
       "    .dataframe thead th {\n",
       "        text-align: right;\n",
       "    }\n",
       "</style>\n",
       "<table border=\"1\" class=\"dataframe\">\n",
       "  <thead>\n",
       "    <tr style=\"text-align: right;\">\n",
       "      <th></th>\n",
       "      <th>center</th>\n",
       "      <th>left</th>\n",
       "      <th>right</th>\n",
       "      <th>steering</th>\n",
       "      <th>throttle</th>\n",
       "      <th>reverse</th>\n",
       "      <th>speed</th>\n",
       "    </tr>\n",
       "  </thead>\n",
       "  <tbody>\n",
       "    <tr>\n",
       "      <th>0</th>\n",
       "      <td>C:\\Users\\Oasysokubo\\Desktop\\Autodrive Data\\IMG\\center_2019_10_17_19_13_59_202.jpg</td>\n",
       "      <td>C:\\Users\\Oasysokubo\\Desktop\\Autodrive Data\\IMG\\left_2019_10_17_19_13_59_202.jpg</td>\n",
       "      <td>C:\\Users\\Oasysokubo\\Desktop\\Autodrive Data\\IMG\\right_2019_10_17_19_13_59_202.jpg</td>\n",
       "      <td>0.0</td>\n",
       "      <td>0.0</td>\n",
       "      <td>0.0</td>\n",
       "      <td>0.000082</td>\n",
       "    </tr>\n",
       "    <tr>\n",
       "      <th>1</th>\n",
       "      <td>C:\\Users\\Oasysokubo\\Desktop\\Autodrive Data\\IMG\\center_2019_10_17_19_13_59_314.jpg</td>\n",
       "      <td>C:\\Users\\Oasysokubo\\Desktop\\Autodrive Data\\IMG\\left_2019_10_17_19_13_59_314.jpg</td>\n",
       "      <td>C:\\Users\\Oasysokubo\\Desktop\\Autodrive Data\\IMG\\right_2019_10_17_19_13_59_314.jpg</td>\n",
       "      <td>0.0</td>\n",
       "      <td>0.0</td>\n",
       "      <td>0.0</td>\n",
       "      <td>0.000078</td>\n",
       "    </tr>\n",
       "    <tr>\n",
       "      <th>2</th>\n",
       "      <td>C:\\Users\\Oasysokubo\\Desktop\\Autodrive Data\\IMG\\center_2019_10_17_19_13_59_422.jpg</td>\n",
       "      <td>C:\\Users\\Oasysokubo\\Desktop\\Autodrive Data\\IMG\\left_2019_10_17_19_13_59_422.jpg</td>\n",
       "      <td>C:\\Users\\Oasysokubo\\Desktop\\Autodrive Data\\IMG\\right_2019_10_17_19_13_59_422.jpg</td>\n",
       "      <td>0.0</td>\n",
       "      <td>0.0</td>\n",
       "      <td>0.0</td>\n",
       "      <td>0.000081</td>\n",
       "    </tr>\n",
       "    <tr>\n",
       "      <th>3</th>\n",
       "      <td>C:\\Users\\Oasysokubo\\Desktop\\Autodrive Data\\IMG\\center_2019_10_17_19_13_59_531.jpg</td>\n",
       "      <td>C:\\Users\\Oasysokubo\\Desktop\\Autodrive Data\\IMG\\left_2019_10_17_19_13_59_531.jpg</td>\n",
       "      <td>C:\\Users\\Oasysokubo\\Desktop\\Autodrive Data\\IMG\\right_2019_10_17_19_13_59_531.jpg</td>\n",
       "      <td>0.0</td>\n",
       "      <td>0.0</td>\n",
       "      <td>0.0</td>\n",
       "      <td>0.000080</td>\n",
       "    </tr>\n",
       "    <tr>\n",
       "      <th>4</th>\n",
       "      <td>C:\\Users\\Oasysokubo\\Desktop\\Autodrive Data\\IMG\\center_2019_10_17_19_13_59_635.jpg</td>\n",
       "      <td>C:\\Users\\Oasysokubo\\Desktop\\Autodrive Data\\IMG\\left_2019_10_17_19_13_59_635.jpg</td>\n",
       "      <td>C:\\Users\\Oasysokubo\\Desktop\\Autodrive Data\\IMG\\right_2019_10_17_19_13_59_635.jpg</td>\n",
       "      <td>0.0</td>\n",
       "      <td>0.0</td>\n",
       "      <td>0.0</td>\n",
       "      <td>0.000079</td>\n",
       "    </tr>\n",
       "  </tbody>\n",
       "</table>\n",
       "</div>"
      ],
      "text/plain": [
       "                                                                              center  ...     speed\n",
       "0  C:\\Users\\Oasysokubo\\Desktop\\Autodrive Data\\IMG\\center_2019_10_17_19_13_59_202.jpg  ...  0.000082\n",
       "1  C:\\Users\\Oasysokubo\\Desktop\\Autodrive Data\\IMG\\center_2019_10_17_19_13_59_314.jpg  ...  0.000078\n",
       "2  C:\\Users\\Oasysokubo\\Desktop\\Autodrive Data\\IMG\\center_2019_10_17_19_13_59_422.jpg  ...  0.000081\n",
       "3  C:\\Users\\Oasysokubo\\Desktop\\Autodrive Data\\IMG\\center_2019_10_17_19_13_59_531.jpg  ...  0.000080\n",
       "4  C:\\Users\\Oasysokubo\\Desktop\\Autodrive Data\\IMG\\center_2019_10_17_19_13_59_635.jpg  ...  0.000079\n",
       "\n",
       "[5 rows x 7 columns]"
      ]
     },
     "execution_count": 7,
     "metadata": {
      "tags": []
     },
     "output_type": "execute_result"
    }
   ],
   "source": [
    "datadir = 'Track.ai'\n",
    "columns = ['center', 'left', 'right', 'steering', 'throttle', 'reverse', 'speed']\n",
    "data = pd.read_csv(os.path.join(datadir, 'driving_log.csv'), names = columns)\n",
    "pd.set_option('display.max_colwidth', -1)\n",
    "data.head()"
   ]
  },
  {
   "cell_type": "code",
   "execution_count": 11,
   "metadata": {
    "colab": {
     "base_uri": "https://localhost:8080/",
     "height": 204
    },
    "colab_type": "code",
    "id": "BU86z6LepFTe",
    "outputId": "d450b13f-440f-4df6-b996-0c632882d8bb"
   },
   "outputs": [
    {
     "data": {
      "text/html": [
       "<div>\n",
       "<style scoped>\n",
       "    .dataframe tbody tr th:only-of-type {\n",
       "        vertical-align: middle;\n",
       "    }\n",
       "\n",
       "    .dataframe tbody tr th {\n",
       "        vertical-align: top;\n",
       "    }\n",
       "\n",
       "    .dataframe thead th {\n",
       "        text-align: right;\n",
       "    }\n",
       "</style>\n",
       "<table border=\"1\" class=\"dataframe\">\n",
       "  <thead>\n",
       "    <tr style=\"text-align: right;\">\n",
       "      <th></th>\n",
       "      <th>center</th>\n",
       "      <th>left</th>\n",
       "      <th>right</th>\n",
       "      <th>steering</th>\n",
       "      <th>throttle</th>\n",
       "      <th>reverse</th>\n",
       "      <th>speed</th>\n",
       "    </tr>\n",
       "  </thead>\n",
       "  <tbody>\n",
       "    <tr>\n",
       "      <th>0</th>\n",
       "      <td>center_2019_10_17_19_13_59_202.jpg</td>\n",
       "      <td>left_2019_10_17_19_13_59_202.jpg</td>\n",
       "      <td>right_2019_10_17_19_13_59_202.jpg</td>\n",
       "      <td>0.0</td>\n",
       "      <td>0.0</td>\n",
       "      <td>0.0</td>\n",
       "      <td>0.000082</td>\n",
       "    </tr>\n",
       "    <tr>\n",
       "      <th>1</th>\n",
       "      <td>center_2019_10_17_19_13_59_314.jpg</td>\n",
       "      <td>left_2019_10_17_19_13_59_314.jpg</td>\n",
       "      <td>right_2019_10_17_19_13_59_314.jpg</td>\n",
       "      <td>0.0</td>\n",
       "      <td>0.0</td>\n",
       "      <td>0.0</td>\n",
       "      <td>0.000078</td>\n",
       "    </tr>\n",
       "    <tr>\n",
       "      <th>2</th>\n",
       "      <td>center_2019_10_17_19_13_59_422.jpg</td>\n",
       "      <td>left_2019_10_17_19_13_59_422.jpg</td>\n",
       "      <td>right_2019_10_17_19_13_59_422.jpg</td>\n",
       "      <td>0.0</td>\n",
       "      <td>0.0</td>\n",
       "      <td>0.0</td>\n",
       "      <td>0.000081</td>\n",
       "    </tr>\n",
       "    <tr>\n",
       "      <th>3</th>\n",
       "      <td>center_2019_10_17_19_13_59_531.jpg</td>\n",
       "      <td>left_2019_10_17_19_13_59_531.jpg</td>\n",
       "      <td>right_2019_10_17_19_13_59_531.jpg</td>\n",
       "      <td>0.0</td>\n",
       "      <td>0.0</td>\n",
       "      <td>0.0</td>\n",
       "      <td>0.000080</td>\n",
       "    </tr>\n",
       "    <tr>\n",
       "      <th>4</th>\n",
       "      <td>center_2019_10_17_19_13_59_635.jpg</td>\n",
       "      <td>left_2019_10_17_19_13_59_635.jpg</td>\n",
       "      <td>right_2019_10_17_19_13_59_635.jpg</td>\n",
       "      <td>0.0</td>\n",
       "      <td>0.0</td>\n",
       "      <td>0.0</td>\n",
       "      <td>0.000079</td>\n",
       "    </tr>\n",
       "  </tbody>\n",
       "</table>\n",
       "</div>"
      ],
      "text/plain": [
       "                               center  ...     speed\n",
       "0  center_2019_10_17_19_13_59_202.jpg  ...  0.000082\n",
       "1  center_2019_10_17_19_13_59_314.jpg  ...  0.000078\n",
       "2  center_2019_10_17_19_13_59_422.jpg  ...  0.000081\n",
       "3  center_2019_10_17_19_13_59_531.jpg  ...  0.000080\n",
       "4  center_2019_10_17_19_13_59_635.jpg  ...  0.000079\n",
       "\n",
       "[5 rows x 7 columns]"
      ]
     },
     "execution_count": 11,
     "metadata": {
      "tags": []
     },
     "output_type": "execute_result"
    }
   ],
   "source": [
    "# Imit the local directory from the name of file\n",
    "\n",
    "def path_leaf(path):\n",
    "  head, tail = ntpath.split(path)\n",
    "  return tail\n",
    "data['center'] = data['center'].apply(path_leaf)\n",
    "data['left'] = data['left'].apply(path_leaf)\n",
    "data['right'] = data['right'].apply(path_leaf)\n",
    "data.head()"
   ]
  },
  {
   "cell_type": "code",
   "execution_count": 18,
   "metadata": {
    "colab": {
     "base_uri": "https://localhost:8080/",
     "height": 286
    },
    "colab_type": "code",
    "id": "uAApU7hnqEcR",
    "outputId": "8b6c20f2-fbb7-4b8c-ac18-73cc806d1b6e"
   },
   "outputs": [
    {
     "data": {
      "text/plain": [
       "[<matplotlib.lines.Line2D at 0x7fc4d3e243c8>]"
      ]
     },
     "execution_count": 18,
     "metadata": {
      "tags": []
     },
     "output_type": "execute_result"
    },
    {
     "data": {
      "image/png": "[encoded data removed]",
      "text/plain": [
       "<Figure size 432x288 with 1 Axes>"
      ]
     },
     "metadata": {
      "tags": []
     },
     "output_type": "display_data"
    }
   ],
   "source": [
    "# Plot steering wheels to visualize distribution, see which way is more frequent \n",
    "\n",
    "num_bins = 25 # Odd number to attain center of distribution\n",
    "samples_per_bin = 200\n",
    "hist, bins = np.histogram(data['steering'], num_bins)\n",
    "center = (bins[:-1] + bins[1:]) * 0.5\n",
    "plt.bar(center, hist, width=0.05)\n",
    "plt.plot((np.min(data['steering']), np.max(data['steering'])), (samples_per_bin, samples_per_bin))"
   ]
  },
  {
   "cell_type": "code",
   "execution_count": 0,
   "metadata": {
    "colab": {},
    "colab_type": "code",
    "id": "osNO3KlMrEfj"
   },
   "outputs": [],
   "source": []
  }
 ],
 "metadata": {
  "colab": {
   "name": "Behavioral Cloning.ipynb",
   "provenance": []
  },
  "kernelspec": {
   "display_name": "Python 3",
   "language": "python",
   "name": "python3"
  },
  "language_info": {
   "codemirror_mode": {
    "name": "ipython",
    "version": 3
   },
   "file_extension": ".py",
   "mimetype": "text/x-python",
   "name": "python",
   "nbconvert_exporter": "python",
   "pygments_lexer": "ipython3",
   "version": "3.7.1"
  }
 },
 "nbformat": 4,
 "nbformat_minor": 1
}
