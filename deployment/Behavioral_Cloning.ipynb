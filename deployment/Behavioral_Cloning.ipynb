{
  "nbformat": 4,
  "nbformat_minor": 0,
  "metadata": {
    "colab": {
      "name": "Behavioral Cloning.ipynb",
      "provenance": [],
      "collapsed_sections": []
    },
    "kernelspec": {
      "name": "python3",
      "display_name": "Python 3"
    }
  },
  "cells": [
    {
      "cell_type": "code",
      "metadata": {
        "id": "A4iYqUNkTq19",
        "colab_type": "code",
        "outputId": "ece026b3-6fb1-4a1d-f233-c51198bce99d",
        "colab": {
          "base_uri": "https://localhost:8080/",
          "height": 63
        }
      },
      "source": [
        "!git clone https://github.com/oasysokubo/Track.ai.git"
      ],
      "execution_count": 21,
      "outputs": [
        {
          "output_type": "stream",
          "text": [
            "fatal: destination path 'Track.ai' already exists and is not an empty directory.\n"
          ],
          "name": "stdout"
        }
      ]
    },
    {
      "cell_type": "code",
      "metadata": {
        "id": "RNq_7zpQoJWR",
        "colab_type": "code",
        "outputId": "260c906b-145b-43a6-f89d-55708961b9ff",
        "colab": {
          "base_uri": "https://localhost:8080/",
          "height": 63
        }
      },
      "source": [
        "!ls Track.ai"
      ],
      "execution_count": 22,
      "outputs": [
        {
          "output_type": "stream",
          "text": [
            "driving_log.csv  IMG\n"
          ],
          "name": "stdout"
        }
      ]
    },
    {
      "cell_type": "code",
      "metadata": {
        "id": "RahDlCTfoQFT",
        "colab_type": "code",
        "colab": {}
      },
      "source": [
        "import os\n",
        "import numpy as np\n",
        "import matplotlib.pyplot as plt\n",
        "import keras\n",
        "from keras.models import Sequential\n",
        "from keras.optimizers import Adam\n",
        "from keras.layers import Conv2D, MaxPooling2D, Dropout, Flatten, Dense\n",
        "from sklearn.utils import shuffle\n",
        "import cv2\n",
        "import pandas as pd\n",
        "import random\n",
        "import ntpath"
      ],
      "execution_count": 0,
      "outputs": []
    },
    {
      "cell_type": "code",
      "metadata": {
        "id": "yy4Kr9UQoh6f",
        "colab_type": "code",
        "outputId": "64b41840-0941-49ad-83b3-670745e0f33e",
        "colab": {
          "base_uri": "https://localhost:8080/",
          "height": 289
        }
      },
      "source": [
        "datadir = 'Track.ai'\n",
        "columns = ['center', 'left', 'right', 'steering', 'throttle', 'reverse', 'speed']\n",
        "data = pd.read_csv(os.path.join(datadir, 'driving_log.csv'), names = columns)\n",
        "pd.set_option('display.max_colwidth', -1)\n",
        "data.head()"
      ],
      "execution_count": 24,
      "outputs": [
        {
          "output_type": "execute_result",
          "data": {
            "text/html": [
              "<div>\n",
              "<style scoped>\n",
              "    .dataframe tbody tr th:only-of-type {\n",
              "        vertical-align: middle;\n",
              "    }\n",
              "\n",
              "    .dataframe tbody tr th {\n",
              "        vertical-align: top;\n",
              "    }\n",
              "\n",
              "    .dataframe thead th {\n",
              "        text-align: right;\n",
              "    }\n",
              "</style>\n",
              "<table border=\"1\" class=\"dataframe\">\n",
              "  <thead>\n",
              "    <tr style=\"text-align: right;\">\n",
              "      <th></th>\n",
              "      <th>center</th>\n",
              "      <th>left</th>\n",
              "      <th>right</th>\n",
              "      <th>steering</th>\n",
              "      <th>throttle</th>\n",
              "      <th>reverse</th>\n",
              "      <th>speed</th>\n",
              "    </tr>\n",
              "  </thead>\n",
              "  <tbody>\n",
              "    <tr>\n",
              "      <th>0</th>\n",
              "      <td>C:\\Users\\Oasysokubo\\Desktop\\Autodrive Data\\IMG\\center_2019_10_17_19_13_59_202.jpg</td>\n",
              "      <td>C:\\Users\\Oasysokubo\\Desktop\\Autodrive Data\\IMG\\left_2019_10_17_19_13_59_202.jpg</td>\n",
              "      <td>C:\\Users\\Oasysokubo\\Desktop\\Autodrive Data\\IMG\\right_2019_10_17_19_13_59_202.jpg</td>\n",
              "      <td>0.0</td>\n",
              "      <td>0.0</td>\n",
              "      <td>0.0</td>\n",
              "      <td>0.000082</td>\n",
              "    </tr>\n",
              "    <tr>\n",
              "      <th>1</th>\n",
              "      <td>C:\\Users\\Oasysokubo\\Desktop\\Autodrive Data\\IMG\\center_2019_10_17_19_13_59_314.jpg</td>\n",
              "      <td>C:\\Users\\Oasysokubo\\Desktop\\Autodrive Data\\IMG\\left_2019_10_17_19_13_59_314.jpg</td>\n",
              "      <td>C:\\Users\\Oasysokubo\\Desktop\\Autodrive Data\\IMG\\right_2019_10_17_19_13_59_314.jpg</td>\n",
              "      <td>0.0</td>\n",
              "      <td>0.0</td>\n",
              "      <td>0.0</td>\n",
              "      <td>0.000078</td>\n",
              "    </tr>\n",
              "    <tr>\n",
              "      <th>2</th>\n",
              "      <td>C:\\Users\\Oasysokubo\\Desktop\\Autodrive Data\\IMG\\center_2019_10_17_19_13_59_422.jpg</td>\n",
              "      <td>C:\\Users\\Oasysokubo\\Desktop\\Autodrive Data\\IMG\\left_2019_10_17_19_13_59_422.jpg</td>\n",
              "      <td>C:\\Users\\Oasysokubo\\Desktop\\Autodrive Data\\IMG\\right_2019_10_17_19_13_59_422.jpg</td>\n",
              "      <td>0.0</td>\n",
              "      <td>0.0</td>\n",
              "      <td>0.0</td>\n",
              "      <td>0.000081</td>\n",
              "    </tr>\n",
              "    <tr>\n",
              "      <th>3</th>\n",
              "      <td>C:\\Users\\Oasysokubo\\Desktop\\Autodrive Data\\IMG\\center_2019_10_17_19_13_59_531.jpg</td>\n",
              "      <td>C:\\Users\\Oasysokubo\\Desktop\\Autodrive Data\\IMG\\left_2019_10_17_19_13_59_531.jpg</td>\n",
              "      <td>C:\\Users\\Oasysokubo\\Desktop\\Autodrive Data\\IMG\\right_2019_10_17_19_13_59_531.jpg</td>\n",
              "      <td>0.0</td>\n",
              "      <td>0.0</td>\n",
              "      <td>0.0</td>\n",
              "      <td>0.000080</td>\n",
              "    </tr>\n",
              "    <tr>\n",
              "      <th>4</th>\n",
              "      <td>C:\\Users\\Oasysokubo\\Desktop\\Autodrive Data\\IMG\\center_2019_10_17_19_13_59_635.jpg</td>\n",
              "      <td>C:\\Users\\Oasysokubo\\Desktop\\Autodrive Data\\IMG\\left_2019_10_17_19_13_59_635.jpg</td>\n",
              "      <td>C:\\Users\\Oasysokubo\\Desktop\\Autodrive Data\\IMG\\right_2019_10_17_19_13_59_635.jpg</td>\n",
              "      <td>0.0</td>\n",
              "      <td>0.0</td>\n",
              "      <td>0.0</td>\n",
              "      <td>0.000079</td>\n",
              "    </tr>\n",
              "  </tbody>\n",
              "</table>\n",
              "</div>"
            ],
            "text/plain": [
              "                                                                              center  ...     speed\n",
              "0  C:\\Users\\Oasysokubo\\Desktop\\Autodrive Data\\IMG\\center_2019_10_17_19_13_59_202.jpg  ...  0.000082\n",
              "1  C:\\Users\\Oasysokubo\\Desktop\\Autodrive Data\\IMG\\center_2019_10_17_19_13_59_314.jpg  ...  0.000078\n",
              "2  C:\\Users\\Oasysokubo\\Desktop\\Autodrive Data\\IMG\\center_2019_10_17_19_13_59_422.jpg  ...  0.000081\n",
              "3  C:\\Users\\Oasysokubo\\Desktop\\Autodrive Data\\IMG\\center_2019_10_17_19_13_59_531.jpg  ...  0.000080\n",
              "4  C:\\Users\\Oasysokubo\\Desktop\\Autodrive Data\\IMG\\center_2019_10_17_19_13_59_635.jpg  ...  0.000079\n",
              "\n",
              "[5 rows x 7 columns]"
            ]
          },
          "metadata": {
            "tags": []
          },
          "execution_count": 24
        }
      ]
    },
    {
      "cell_type": "code",
      "metadata": {
        "id": "BU86z6LepFTe",
        "colab_type": "code",
        "outputId": "45426cc2-203b-4564-d83d-fd5ef89da727",
        "colab": {
          "base_uri": "https://localhost:8080/",
          "height": 204
        }
      },
      "source": [
        "# Imit the local directory from the name of file\n",
        "\n",
        "def path_leaf(path):\n",
        "  head, tail = ntpath.split(path)\n",
        "  return tail\n",
        "data['center'] = data['center'].apply(path_leaf)\n",
        "data['left'] = data['left'].apply(path_leaf)\n",
        "data['right'] = data['right'].apply(path_leaf)\n",
        "data.head()"
      ],
      "execution_count": 25,
      "outputs": [
        {
          "output_type": "execute_result",
          "data": {
            "text/html": [
              "<div>\n",
              "<style scoped>\n",
              "    .dataframe tbody tr th:only-of-type {\n",
              "        vertical-align: middle;\n",
              "    }\n",
              "\n",
              "    .dataframe tbody tr th {\n",
              "        vertical-align: top;\n",
              "    }\n",
              "\n",
              "    .dataframe thead th {\n",
              "        text-align: right;\n",
              "    }\n",
              "</style>\n",
              "<table border=\"1\" class=\"dataframe\">\n",
              "  <thead>\n",
              "    <tr style=\"text-align: right;\">\n",
              "      <th></th>\n",
              "      <th>center</th>\n",
              "      <th>left</th>\n",
              "      <th>right</th>\n",
              "      <th>steering</th>\n",
              "      <th>throttle</th>\n",
              "      <th>reverse</th>\n",
              "      <th>speed</th>\n",
              "    </tr>\n",
              "  </thead>\n",
              "  <tbody>\n",
              "    <tr>\n",
              "      <th>0</th>\n",
              "      <td>center_2019_10_17_19_13_59_202.jpg</td>\n",
              "      <td>left_2019_10_17_19_13_59_202.jpg</td>\n",
              "      <td>right_2019_10_17_19_13_59_202.jpg</td>\n",
              "      <td>0.0</td>\n",
              "      <td>0.0</td>\n",
              "      <td>0.0</td>\n",
              "      <td>0.000082</td>\n",
              "    </tr>\n",
              "    <tr>\n",
              "      <th>1</th>\n",
              "      <td>center_2019_10_17_19_13_59_314.jpg</td>\n",
              "      <td>left_2019_10_17_19_13_59_314.jpg</td>\n",
              "      <td>right_2019_10_17_19_13_59_314.jpg</td>\n",
              "      <td>0.0</td>\n",
              "      <td>0.0</td>\n",
              "      <td>0.0</td>\n",
              "      <td>0.000078</td>\n",
              "    </tr>\n",
              "    <tr>\n",
              "      <th>2</th>\n",
              "      <td>center_2019_10_17_19_13_59_422.jpg</td>\n",
              "      <td>left_2019_10_17_19_13_59_422.jpg</td>\n",
              "      <td>right_2019_10_17_19_13_59_422.jpg</td>\n",
              "      <td>0.0</td>\n",
              "      <td>0.0</td>\n",
              "      <td>0.0</td>\n",
              "      <td>0.000081</td>\n",
              "    </tr>\n",
              "    <tr>\n",
              "      <th>3</th>\n",
              "      <td>center_2019_10_17_19_13_59_531.jpg</td>\n",
              "      <td>left_2019_10_17_19_13_59_531.jpg</td>\n",
              "      <td>right_2019_10_17_19_13_59_531.jpg</td>\n",
              "      <td>0.0</td>\n",
              "      <td>0.0</td>\n",
              "      <td>0.0</td>\n",
              "      <td>0.000080</td>\n",
              "    </tr>\n",
              "    <tr>\n",
              "      <th>4</th>\n",
              "      <td>center_2019_10_17_19_13_59_635.jpg</td>\n",
              "      <td>left_2019_10_17_19_13_59_635.jpg</td>\n",
              "      <td>right_2019_10_17_19_13_59_635.jpg</td>\n",
              "      <td>0.0</td>\n",
              "      <td>0.0</td>\n",
              "      <td>0.0</td>\n",
              "      <td>0.000079</td>\n",
              "    </tr>\n",
              "  </tbody>\n",
              "</table>\n",
              "</div>"
            ],
            "text/plain": [
              "                               center  ...     speed\n",
              "0  center_2019_10_17_19_13_59_202.jpg  ...  0.000082\n",
              "1  center_2019_10_17_19_13_59_314.jpg  ...  0.000078\n",
              "2  center_2019_10_17_19_13_59_422.jpg  ...  0.000081\n",
              "3  center_2019_10_17_19_13_59_531.jpg  ...  0.000080\n",
              "4  center_2019_10_17_19_13_59_635.jpg  ...  0.000079\n",
              "\n",
              "[5 rows x 7 columns]"
            ]
          },
          "metadata": {
            "tags": []
          },
          "execution_count": 25
        }
      ]
    },
    {
      "cell_type": "code",
      "metadata": {
        "id": "uAApU7hnqEcR",
        "colab_type": "code",
        "outputId": "786f31d0-5698-44ef-d461-cd09f991e88c",
        "colab": {
          "base_uri": "https://localhost:8080/",
          "height": 282
        }
      },
      "source": [
        "# Plot steering wheels to visualize distribution, see which way is more frequent \n",
        "\n",
        "num_bins = 25 # Odd number to attain center of distribution\n",
        "samples_per_bin = 200\n",
        "hist, bins = np.histogram(data['steering'], num_bins)\n",
        "center = (bins[:-1] + bins[1:]) * 0.5\n",
        "plt.bar(center, hist, width=0.05)\n",
        "plt.plot((np.min(data['steering']), np.max(data['steering'])), (samples_per_bin, samples_per_bin))"
      ],
      "execution_count": 26,
      "outputs": [
        {
          "output_type": "execute_result",
          "data": {
            "text/plain": [
              "[<matplotlib.lines.Line2D at 0x7f6b9e8491d0>]"
            ]
          },
          "metadata": {
            "tags": []
          },
          "execution_count": 26
        },
        {
          "output_type": "display_data",
          "data": {
            "image/png": "[encoded data removed]",
            "text/plain": [
              "<Figure size 432x288 with 1 Axes>"
            ]
          },
          "metadata": {
            "tags": []
          }
        }
      ]
    },
    {
      "cell_type": "code",
      "metadata": {
        "id": "osNO3KlMrEfj",
        "colab_type": "code",
        "colab": {
          "base_uri": "https://localhost:8080/",
          "height": 333
        },
        "outputId": "93ea3d73-6cc8-4fe9-fad7-940b4d6fccee"
      },
      "source": [
        "# Flatten data distribution of above data to prevent bias towards centerization\n",
        "# Uniform our data\n",
        "# Specify the samples we want to remove\n",
        "print('total data:', len(data))\n",
        "\n",
        "remove_list = []\n",
        "for j in range(num_bins):\n",
        "  list_ = []\n",
        "  for i in range(len(data['steering'])):\n",
        "    # If steering angle falls between two bins, then it belongs to the current interval bin j thats being iterated through\n",
        "    if data['steering'][i] >= bins[j] and data['steering'][i] <= bins[j+1]:\n",
        "      list_.append(i) # Point to the steering angle i\n",
        "  list_ = shuffle(list_) # \n",
        "  list_ = list_[samples_per_bin:] # Isolate the indices that go beyond the threshold\n",
        "  remove_list.extend(list_)\n",
        "  \n",
        "print('removed:', len(remove_list))\n",
        "data.drop(data.index[remove_list], inplace = True)\n",
        "print('remaining', len(data))\n",
        "\n",
        "# Now we have data which cuts of extraneous samples for specific bins whose frequency exceeds 200\n",
        "# making our data more uniform and less bias\n",
        "\n",
        "hist, _ = np.histogram(data['steering'], (num_bins))\n",
        "plt.bar(center, hist, width=0.05)\n",
        "plt.plot((np.min(data['steering']), np.max(data['steering'])), (samples_per_bin, samples_per_bin))\n",
        "\n",
        "\"\"\"\n",
        "The output is a distribution of steering angles that are much more uniform, viewed data in relative proportion\n",
        "There are significant left and right steering angles, eliminating the extreme bias to driving straight all the time\n",
        "This extreme bias resulted from the training as we drove the car as smooth as possible in the middle of the road, and thereby, recording the \n",
        "ideal steering angle at all times\n",
        "\n",
        "We fix this by cropping most of the extraneous training data\n",
        "\n",
        "Alternate Solution:\n",
        "Let the car continuously steer in either direction drifting to the edge of the road, but not actually hitting the edges\n",
        "and have it recover back to the middle before it crashes\n",
        "Because simply driving down the middle of the road and recording that, is not enough to train model to drive properly\n",
        "\n",
        "Imagine the car wanders off to the side of the road in such a case it wouldn't be able to recover back\n",
        "to the middle as it wouldn't be able to predict the appropriate left steering measurements therefore\n",
        "an alternative to manipulating the data in this way is to record a recovery laps where we actually make\n",
        "a separate recording of the car constantly steering back from the sides.\n",
        "\n",
        "So what you would do is turn off the recording of the car or wandering off to the side since that's\n",
        "not the behavior that we want to train the model on but only record once we're going to steer back to\n",
        "the middle.\n",
        "\n",
        "And now since having gotten rid of the zero angle bias not completely since we still want our car\n",
        "to favor driving down the middle let's load our image and steering data into arrays so we're able to\n",
        "manipulate them and split them into training and validation data.\n",
        "\n",
        "\"\"\""
      ],
      "execution_count": 27,
      "outputs": [
        {
          "output_type": "stream",
          "text": [
            "total data: 4508\n",
            "removed: 3033\n",
            "remaining 1475\n"
          ],
          "name": "stdout"
        },
        {
          "output_type": "execute_result",
          "data": {
            "text/plain": [
              "[<matplotlib.lines.Line2D at 0x7f6b9e669a58>]"
            ]
          },
          "metadata": {
            "tags": []
          },
          "execution_count": 27
        },
        {
          "output_type": "display_data",
          "data": {
            "image/png": "[encoded data removed]",
            "text/plain": [
              "<Figure size 432x288 with 1 Axes>"
            ]
          },
          "metadata": {
            "tags": []
          }
        }
      ]
    },
    {
      "cell_type": "code",
      "metadata": {
        "id": "eB4QuvmokIXW",
        "colab_type": "code",
        "colab": {}
      },
      "source": [
        ""
      ],
      "execution_count": 0,
      "outputs": []
    }
  ]
}